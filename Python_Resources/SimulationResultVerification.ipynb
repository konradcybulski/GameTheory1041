{
 "cells": [
  {
   "cell_type": "markdown",
   "metadata": {},
   "source": [
    "# Santos, Santos, Pacheco Results #\n",
    "The results achieved in the simulations by SSP (Santos Santos Pachecho) in their paper *Social Norms of Cooperation in Small-Scale Societies* can be seen in the following graph.\n",
    "\n",
    "\n",
    "<img src=\"http://journals.plos.org/ploscompbiol/article/figure/image?size=large&id=info:doi/10.1371/journal.pcbi.1004709.g001\"/>\n",
    "\n",
    "One can see an almost constant cooperation index for population sizes greater than 50 for Stern Judging, Shunning, and Image Score. While Simple Standing increases steadily over the range 50-300.\n",
    "\n",
    "Below we will be performing the same simulation and plotting the results in order to verify and compare the simulations results and those of the paper.\n",
    "\n",
    "First however let us define the social norms we will use as well as a function to pass varying population sizes and social norms for retrieving the results."
   ]
  },
  {
   "cell_type": "code",
   "execution_count": 23,
   "metadata": {
    "collapsed": false,
    "scrolled": true
   },
   "outputs": [
    {
     "name": "stdout",
     "output_type": "stream",
     "text": [
      "Populating the interactive namespace from numpy and matplotlib\n",
      "The autoreload extension is already loaded. To reload it, use:\n",
      "  %reload_ext autoreload\n"
     ]
    }
   ],
   "source": [
    "%pylab inline\n",
    "%load_ext autoreload\n",
    "%autoreload 2\n",
    "\n",
    "import SimulationInstance\n",
    "import SimulationInstanceVectorized\n",
    "\n",
    "SternJudging = [[1, 0 ],\n",
    "                [0, 1]]\n",
    "SimpleStanding = [[1, 1],\n",
    "                  [0, 1]]\n",
    "Shunning = [[1, 0],\n",
    "            [0, 1]]\n",
    "ImageScore = [[1, 1],\n",
    "              [0, 0]]\n",
    "\n",
    "def SSP(population_size, socialnorm):\n",
    "    runs = 2\n",
    "    generations = 3*np.power(10, 5)\n",
    "    mutation_rate = np.power(10*population_size, -1)\n",
    "\n",
    "    execution_error = 0.08\n",
    "    reputation_assignment_error = 0.01\n",
    "    private_assessment_error = 0.01\n",
    "    reputation_update_probability = 0.2\n",
    "    randomseed = np.random.randint(999999)\n",
    "    cost = 1\n",
    "    benefit = 5\n",
    "    coop_index = SimulationInstanceVectorized.run_instance(runs, generations, population_size,\n",
    "        mutation_rate, execution_error, reputation_assignment_error, private_assessment_error,\n",
    "        reputation_update_probability, randomseed, socialnorm,\n",
    "        cost, benefit)\n",
    "    return coop_index"
   ]
  },
  {
   "cell_type": "markdown",
   "metadata": {},
   "source": [
    "Now let us retrieve the results for populations in the ranges 10-150, with simulations at every multiple of 10, and then simulations at multiples of 25 from 150-300. \n",
    "\n",
    "Let's begin with the social norm of Stern Judging."
   ]
  },
  {
   "cell_type": "code",
   "execution_count": 3,
   "metadata": {
    "collapsed": true
   },
   "outputs": [],
   "source": [
    "population_sizes = [10, 20, 30, 40, 50, 60, 70, 80, 90, 100, 110, 120, 130, 140, 150,\n",
    "                    175, 200, 225, 250, 275, 300]"
   ]
  },
  {
   "cell_type": "code",
   "execution_count": 4,
   "metadata": {
    "collapsed": false
   },
   "outputs": [
    {
     "name": "stdout",
     "output_type": "stream",
     "text": [
      "Cooperation index: 0.9013833333333333\n",
      "Cooperation index: 0.5709979166666667\n",
      "Cooperation index: 0.8582768518518519\n",
      "Cooperation index: 0.8282350694444445\n",
      "Cooperation index: 0.7999027777777777\n",
      "Cooperation index: 0.548167824074074\n",
      "Cooperation index: 0.7787900793650794\n",
      "Cooperation index: 0.7666298611111111\n",
      "Cooperation index: 0.22827808641975308\n",
      "Cooperation index: 0.23062069444444444\n",
      "Cooperation index: 0.3190335858585859\n",
      "Cooperation index: 0.29855358796296294\n",
      "Cooperation index: 0.1681474358974359\n",
      "Cooperation index: 0.3456808531746032\n",
      "Cooperation index: 0.2904833333333333\n",
      "Cooperation index: 0.1608411111111111\n",
      "Cooperation index: 0.21155458333333332\n",
      "Cooperation index: 0.23972327160493828\n",
      "Cooperation index: 0.26114794444444445\n",
      "Cooperation index: 0.32895979797979796\n",
      "Cooperation index: 0.29224925925925926\n"
     ]
    }
   ],
   "source": [
    "stern_judging_results = [[SSP(size, SternJudging), size] for size in population_sizes]"
   ]
  },
  {
   "cell_type": "code",
   "execution_count": 5,
   "metadata": {
    "collapsed": false
   },
   "outputs": [
    {
     "data": {
      "image/png": "[encoded data removed]",
      "text/plain": [
       "<matplotlib.figure.Figure at 0x66a5540320>"
      ]
     },
     "metadata": {},
     "output_type": "display_data"
    },
    {
     "name": "stdout",
     "output_type": "stream",
     "text": [
      "[ 0.90138333  0.57099792  0.85827685  0.82823507  0.79990278  0.54816782\n",
      "  0.77879008  0.76662986  0.22827809  0.23062069  0.31903359  0.29855359\n",
      "  0.16814744  0.34568085  0.29048333  0.16084111  0.21155458  0.23972327\n",
      "  0.26114794  0.3289598   0.29224926]\n",
      "[  10.   20.   30.   40.   50.   60.   70.   80.   90.  100.  110.  120.\n",
      "  130.  140.  150.  175.  200.  225.  250.  275.  300.]\n"
     ]
    }
   ],
   "source": [
    "stern_judging_results = np.array(stern_judging_results)\n",
    "x = stern_judging_results[:,0]\n",
    "y = stern_judging_results[:,1]\n",
    "plot = plt.plot(y, x, 'k', y, x, 'ro', linewidth=2.0)\n",
    "plt.ylim((-0.01, 1.1))\n",
    "plt.xlim((-0.01, 301))\n",
    "#plt.setp(plot, color='r')\n",
    "plt.ylabel('Cooperation Index')\n",
    "plt.xlabel('Population Size')\n",
    "plt.show()\n",
    "print(x)\n",
    "print(y)"
   ]
  },
  {
   "cell_type": "markdown",
   "metadata": {
    "collapsed": true
   },
   "source": [
    "Test Work on PC vs laptop"
   ]
  },
  {
   "cell_type": "code",
   "execution_count": 20,
   "metadata": {
    "collapsed": false
   },
   "outputs": [
    {
     "name": "stdout",
     "output_type": "stream",
     "text": [
      "Cooperation index: 0.8321562166666666\n",
      "Wall time: 1min 19s\n"
     ]
    },
    {
     "data": {
      "text/plain": [
       "0.8321562166666666"
      ]
     },
     "execution_count": 20,
     "metadata": {},
     "output_type": "execute_result"
    }
   ],
   "source": [
    "%time SSP(50, SternJudging)"
   ]
  },
  {
   "cell_type": "code",
   "execution_count": 24,
   "metadata": {
    "collapsed": false
   },
   "outputs": [
    {
     "name": "stdout",
     "output_type": "stream",
     "text": [
      "Cooperation index: 0.415945525\n",
      "Wall time: 2min 35s\n"
     ]
    },
    {
     "data": {
      "text/plain": [
       "0.415945525"
      ]
     },
     "execution_count": 24,
     "metadata": {},
     "output_type": "execute_result"
    }
   ],
   "source": [
    "%time SSP(50, SternJudging)"
   ]
  },
  {
   "cell_type": "code",
   "execution_count": null,
   "metadata": {
    "collapsed": true
   },
   "outputs": [],
   "source": []
  }
 ],
 "metadata": {
  "anaconda-cloud": {},
  "kernelspec": {
   "display_name": "Python [Root]",
   "language": "python",
   "name": "Python [Root]"
  },
  "language_info": {
   "codemirror_mode": {
    "name": "ipython",
    "version": 3
   },
   "file_extension": ".py",
   "mimetype": "text/x-python",
   "name": "python",
   "nbconvert_exporter": "python",
   "pygments_lexer": "ipython3",
   "version": "3.5.2"
  }
 },
 "nbformat": 4,
 "nbformat_minor": 0
}
