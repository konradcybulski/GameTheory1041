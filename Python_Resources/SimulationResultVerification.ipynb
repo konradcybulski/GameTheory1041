{
 "cells": [
  {
   "cell_type": "markdown",
   "metadata": {},
   "source": [
    "# Santos, Santos, Pacheco Results #\n",
    "The results achieved in the simulations by SSP (Santos Santos Pachecho) in their paper *Social Norms of Cooperation in Small-Scale Societies* can be seen in the following graph.\n",
    "\n",
    "\n",
    "<img src=\"http://journals.plos.org/ploscompbiol/article/figure/image?size=large&id=info:doi/10.1371/journal.pcbi.1004709.g001\"/>\n",
    "\n",
    "One can see an almost constant cooperation index for population sizes greater than 50 for Stern Judging, Shunning, and Image Score. While Simple Standing increases steadily over the range 50-300.\n",
    "\n",
    "Below we will be performing the same simulation and plotting the results in order to verify and compare the simulations results and those of the paper.\n",
    "\n",
    "First however let us define the social norms we will use as well as a function to pass varying population sizes and social norms for retrieving the results."
   ]
  },
  {
   "cell_type": "code",
   "execution_count": 30,
   "metadata": {
    "collapsed": false
   },
   "outputs": [
    {
     "name": "stdout",
     "output_type": "stream",
     "text": [
      "Populating the interactive namespace from numpy and matplotlib\n",
      "The autoreload extension is already loaded. To reload it, use:\n",
      "  %reload_ext autoreload\n"
     ]
    }
   ],
   "source": [
    "%pylab inline\n",
    "%load_ext autoreload\n",
    "%autoreload 2\n",
    "\n",
    "import SimulationInstance\n",
    "import SimulationInstanceVectorized\n",
    "\n",
    "SternJudging = [[1, 0 ],\n",
    "                [0, 1]]\n",
    "SimpleStanding = [[1, 1],\n",
    "                  [0, 1]]\n",
    "Shunning = [[1, 0],\n",
    "            [0, 1]]\n",
    "ImageScore = [[1, 1],\n",
    "              [0, 0]]\n",
    "\n",
    "def SSP(population_size, socialnorm):\n",
    "    runs = 3\n",
    "    generations = 3*np.power(10, 3)\n",
    "    mutation_rate = np.power(10*population_size, -1)\n",
    "\n",
    "    execution_error = 0.08\n",
    "    reputation_assignment_error = 0.01\n",
    "    private_assessment_error = 0.01\n",
    "    reputation_update_probability = 0.2\n",
    "    randomseed = np.random.randint(999999)\n",
    "    cost = 1\n",
    "    benefit = 5\n",
    "    coop_index = SimulationInstanceVectorized.run_instance(runs, generations, population_size,\n",
    "        mutation_rate, execution_error, reputation_assignment_error, private_assessment_error,\n",
    "        reputation_update_probability, randomseed, socialnorm,\n",
    "        cost, benefit)\n",
    "    return coop_index"
   ]
  },
  {
   "cell_type": "markdown",
   "metadata": {},
   "source": [
    "Now let us retrieve the results for populations in the ranges 10-150, with simulations at every multiple of 10, and then simulations at multiples of 25 from 150-300. \n",
    "\n",
    "Let's begin with the social norm of Stern Judging."
   ]
  },
  {
   "cell_type": "code",
   "execution_count": 27,
   "metadata": {
    "collapsed": true
   },
   "outputs": [],
   "source": [
    "population_sizes = [10, 20, 30, 40, 50, 60, 70, 80, 90, 100, 110, 120, 130, 140, 150,\n",
    "                    175, 200, 225, 250, 275, 300]"
   ]
  },
  {
   "cell_type": "code",
   "execution_count": 38,
   "metadata": {
    "collapsed": false
   },
   "outputs": [
    {
     "name": "stdout",
     "output_type": "stream",
     "text": [
      "Cooperation index: 0.6012597222222222\n",
      "Cooperation index: 0.83649375\n",
      "Cooperation index: 0.2972842592592593\n",
      "Cooperation index: 0.8003260416666667\n",
      "Cooperation index: 0.7811016666666667\n",
      "Cooperation index: 0.532906712962963\n",
      "Cooperation index: 0.7431013888888889\n",
      "Cooperation index: 0.6794215277777778\n",
      "Cooperation index: 0.7597783950617284\n",
      "Cooperation index: 0.7415354166666667\n",
      "Cooperation index: 0.4669724747474748\n",
      "Cooperation index: 0.5246200231481482\n",
      "Cooperation index: 0.5403447649572649\n",
      "Cooperation index: 0.6134109126984127\n",
      "Cooperation index: 0.5140366666666667\n",
      "Cooperation index: 0.18585960317460318\n",
      "Cooperation index: 0.3279549305555556\n",
      "Cooperation index: 0.6264133333333334\n",
      "Cooperation index: 0.2291467222222222\n",
      "Cooperation index: 0.3396673737373737\n",
      "Cooperation index: 0.4414544907407407\n"
     ]
    }
   ],
   "source": [
    "stern_judging_results = [[SSP(size, SternJudging), size] for size in population_sizes]"
   ]
  },
  {
   "cell_type": "code",
   "execution_count": 73,
   "metadata": {
    "collapsed": false
   },
   "outputs": [
    {
     "data": {
      "image/png": "[encoded data removed]",
      "text/plain": [
       "<matplotlib.figure.Figure at 0x242aab96080>"
      ]
     },
     "metadata": {},
     "output_type": "display_data"
    },
    {
     "name": "stdout",
     "output_type": "stream",
     "text": [
      "[ 0.60125972  0.83649375  0.29728426  0.80032604  0.78110167  0.53290671\n",
      "  0.74310139  0.67942153  0.7597784   0.74153542  0.46697247  0.52462002\n",
      "  0.54034476  0.61341091  0.51403667  0.1858596   0.32795493  0.62641333\n",
      "  0.22914672  0.33966737  0.44145449]\n",
      "[  10.   20.   30.   40.   50.   60.   70.   80.   90.  100.  110.  120.\n",
      "  130.  140.  150.  175.  200.  225.  250.  275.  300.]\n"
     ]
    }
   ],
   "source": [
    "stern_judging_results = np.array(stern_judging_results)\n",
    "x = stern_judging_results[:,0]\n",
    "y = stern_judging_results[:,1]\n",
    "plot = plt.plot(y, x, 'k', y, x, 'ro', linewidth=2.0)\n",
    "plt.ylim((-0.01, 1.1))\n",
    "plt.xlim((-0.01, 301))\n",
    "#plt.setp(plot, color='r')\n",
    "plt.ylabel('Cooperation Index')\n",
    "plt.xlabel('Population Size')\n",
    "plt.show()\n",
    "print(x)\n",
    "print(y)"
   ]
  },
  {
   "cell_type": "code",
   "execution_count": null,
   "metadata": {
    "collapsed": true
   },
   "outputs": [],
   "source": []
  }
 ],
 "metadata": {
  "anaconda-cloud": {},
  "kernelspec": {
   "display_name": "Python [Root]",
   "language": "python",
   "name": "Python [Root]"
  },
  "language_info": {
   "codemirror_mode": {
    "name": "ipython",
    "version": 3
   },
   "file_extension": ".py",
   "mimetype": "text/x-python",
   "name": "python",
   "nbconvert_exporter": "python",
   "pygments_lexer": "ipython3",
   "version": "3.5.2"
  }
 },
 "nbformat": 4,
 "nbformat_minor": 0
}
