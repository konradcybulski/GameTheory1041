{
 "cells": [
  {
   "cell_type": "code",
   "execution_count": 19,
   "metadata": {
    "collapsed": false
   },
   "outputs": [
    {
     "name": "stdout",
     "output_type": "stream",
     "text": [
      "Populating the interactive namespace from numpy and matplotlib\n",
      "The autoreload extension is already loaded. To reload it, use:\n",
      "  %reload_ext autoreload\n"
     ]
    }
   ],
   "source": [
    "%pylab inline\n",
    "%load_ext autoreload\n",
    "%autoreload 2\n",
    "\n",
    "from InstanceVariables import InstanceVariables\n",
    "import SimulationInstance\n",
    "import SimulationInstanceVectorized"
   ]
  },
  {
   "cell_type": "markdown",
   "metadata": {},
   "source": [
    "Before looking at the results of each simulation instance, both vectorized and not, let us first define the variables used and their values for each. The following parameter values are those used in the Santos, Santos, Pacheco paper supporting material.\n",
    "\n",
    "As well as this, let us define 4 of the main social norms investigated"
   ]
  },
  {
   "cell_type": "code",
   "execution_count": 14,
   "metadata": {
    "collapsed": true
   },
   "outputs": [],
   "source": [
    "SternJudging = [[1, 0 ],\n",
    "                [0, 1]]\n",
    "SimpleStanding = [[1, 1],\n",
    "                  [0, 1]]\n",
    "Shunning = [[1, 0],\n",
    "            [0, 1]]\n",
    "ImageScore = [[1, 1],\n",
    "              [0, 0]]"
   ]
  },
  {
   "cell_type": "markdown",
   "metadata": {},
   "source": [
    "Now a function containing all the predefined variables for use in testing:"
   ]
  },
  {
   "cell_type": "code",
   "execution_count": 15,
   "metadata": {
    "collapsed": true
   },
   "outputs": [],
   "source": [
    "def SSP(population_size, generations, socialnorm):\n",
    "    runs = 1\n",
    "    mutation_rate = np.power(10*population_size, -1)\n",
    "\n",
    "    execution_error = 0.08\n",
    "    reputation_assignment_error = 0.01\n",
    "    private_assessment_error = 0.01\n",
    "    reputation_update_probability = 1\n",
    "    cost = 1\n",
    "    benefit = 5\n",
    "    SimulationInstance.simulate(runs, generations, population_size,\n",
    "        mutation_rate, execution_error, reputation_assignment_error, private_assessment_error,\n",
    "        reputation_update_probability, socialnorm,\n",
    "        cost, benefit)"
   ]
  },
  {
   "cell_type": "markdown",
   "metadata": {},
   "source": [
    "# Population optimization #\n",
    "Now let's have a quick look at the speed difference in a population of 50."
   ]
  },
  {
   "cell_type": "code",
   "execution_count": 15,
   "metadata": {
    "collapsed": false
   },
   "outputs": [
    {
     "name": "stdout",
     "output_type": "stream",
     "text": [
      "Cooperation index: 0.5537725\n",
      "Cooperation index: 0.0433275\n",
      "Cooperation index: 0.78902\n",
      "Cooperation index: 0.0344675\n",
      "1 loop, best of 3: 4.73 s per loop\n"
     ]
    }
   ],
   "source": [
    "%%timeit\n",
    "SSP(50, 3*np.power(10,3), SternJudging, optimized=False)"
   ]
  },
  {
   "cell_type": "markdown",
   "metadata": {},
   "source": [
    "The best case was 4.73 seconds in the unoptimized simulation, now if we test the optimized simulation."
   ]
  },
  {
   "cell_type": "code",
   "execution_count": 14,
   "metadata": {
    "collapsed": false
   },
   "outputs": [
    {
     "name": "stdout",
     "output_type": "stream",
     "text": [
      "Cooperation index: 0.8683766666666667\n",
      "Cooperation index: 0.8917341666666667\n",
      "Cooperation index: 0.6453216666666667\n",
      "Cooperation index: 0.8730383333333334\n",
      "1 loop, best of 3: 2.48 s per loop\n"
     ]
    }
   ],
   "source": [
    "%%timeit\n",
    "SSP(50, 3*np.power(10,3), SternJudging, optimized=True)"
   ]
  },
  {
   "cell_type": "markdown",
   "metadata": {},
   "source": [
    "The best case was 2.48 seconds for the optimized simulation. Compared to the 4.73 seconds it took for the unoptimized, we have a almost twice as quick of a simulation. However before we say it is ONLY twice as quick. Let us give the example of a population of size 1000, 20 times larger than what we've tested. Given we are only testing these with 3000 generations compared to the 300 000 generations required for the simulation to be accurate, it is simply to measure the speedup."
   ]
  },
  {
   "cell_type": "code",
   "execution_count": 18,
   "metadata": {
    "collapsed": false
   },
   "outputs": [
    {
     "name": "stdout",
     "output_type": "stream",
     "text": [
      "Cooperation index: 0.3809449583333333\n",
      "Cooperation index: 0.3568224583333333\n",
      "Cooperation index: 0.409717\n",
      "Cooperation index: 0.3925699166666667\n",
      "1 loop, best of 3: 1min 29s per loop\n"
     ]
    }
   ],
   "source": [
    "%%timeit\n",
    "SSP(1000, 3*np.power(10,3), SternJudging, optimized=False)"
   ]
  },
  {
   "cell_type": "markdown",
   "metadata": {},
   "source": [
    "As you can see, the amount of time the unoptimized program requires to run only 3000 generations with a population of 1000 is 1 minute and 29 seconds."
   ]
  },
  {
   "cell_type": "code",
   "execution_count": 6,
   "metadata": {
    "collapsed": false
   },
   "outputs": [
    {
     "name": "stdout",
     "output_type": "stream",
     "text": [
      "Cooperation index: 0.3812939166666667\n",
      "Cooperation index: 0.3980768333333333\n",
      "Cooperation index: 0.38631845833333334\n",
      "Cooperation index: 0.38385254166666666\n",
      "1 loop, best of 3: 1.61 s per loop\n"
     ]
    }
   ],
   "source": [
    "%%timeit\n",
    "SSP(1000, 3*np.power(10,3), SternJudging, optimized=True)"
   ]
  },
  {
   "cell_type": "markdown",
   "metadata": {},
   "source": [
    "Now for the optimized simulation, the time taken is only 1.61 seconds, which is extremely close to the time taken for a population of size 50. "
   ]
  },
  {
   "cell_type": "markdown",
   "metadata": {},
   "source": [
    "# Fitness Function #\n",
    "Let's have a look at the speedup of the fitness function, responsible for determining the average fitness of an agent X against a tournament of other agents."
   ]
  },
  {
   "cell_type": "code",
   "execution_count": 40,
   "metadata": {
    "collapsed": false
   },
   "outputs": [],
   "source": [
    "runs = 1\n",
    "generations = 3*np.power(10, 3)\n",
    "population_size = 10\n",
    "socialnorm = [[0, 0], [0, 1]]\n",
    "mutation_rate = np.power(10*population_size, -1)\n",
    "\n",
    "execution_error = 0.08\n",
    "reputation_assignment_error = 0.01\n",
    "private_assessment_error = 0.01\n",
    "reputation_update_probability = 1\n",
    "cost = 1\n",
    "benefit = 5\n",
    "variables = InstanceVariables(runs, generations, population_size, mutation_rate,\n",
    "                              execution_error, reputation_assignment_error,\n",
    "                              private_assessment_error, reputation_update_probability,\n",
    "                              socialnorm, cost, benefit)"
   ]
  },
  {
   "cell_type": "markdown",
   "metadata": {},
   "source": [
    "Test the fitness function for small population sizes and then for larger population sizes"
   ]
  },
  {
   "cell_type": "code",
   "execution_count": 41,
   "metadata": {
    "collapsed": false
   },
   "outputs": [
    {
     "name": "stdout",
     "output_type": "stream",
     "text": [
      "100 loops, best of 3: 11.7 ms per loop\n"
     ]
    }
   ],
   "source": [
    "%%timeit\n",
    "for _ in range(population_size):\n",
    "    SimulationInstance.fitness_function(0, 1, variables)"
   ]
  },
  {
   "cell_type": "code",
   "execution_count": 42,
   "metadata": {
    "collapsed": true
   },
   "outputs": [],
   "source": [
    "population_size = 50\n",
    "variables = InstanceVariables(runs, generations, population_size, mutation_rate,\n",
    "                              execution_error, reputation_assignment_error,\n",
    "                              private_assessment_error, reputation_update_probability,\n",
    "                              socialnorm, cost, benefit)"
   ]
  },
  {
   "cell_type": "code",
   "execution_count": 43,
   "metadata": {
    "collapsed": false
   },
   "outputs": [
    {
     "name": "stdout",
     "output_type": "stream",
     "text": [
      "1 loop, best of 3: 231 ms per loop\n"
     ]
    }
   ],
   "source": [
    "%%timeit\n",
    "for _ in range(population_size):\n",
    "    SimulationInstance.fitness_function(0, 1, variables)"
   ]
  },
  {
   "cell_type": "code",
   "execution_count": 47,
   "metadata": {
    "collapsed": true
   },
   "outputs": [],
   "source": [
    "population_size = 100\n",
    "variables = InstanceVariables(runs, generations, population_size, mutation_rate,\n",
    "                              execution_error, reputation_assignment_error,\n",
    "                              private_assessment_error, reputation_update_probability,\n",
    "                              socialnorm, cost, benefit)"
   ]
  },
  {
   "cell_type": "code",
   "execution_count": 48,
   "metadata": {
    "collapsed": false
   },
   "outputs": [
    {
     "name": "stdout",
     "output_type": "stream",
     "text": [
      "1 loop, best of 3: 907 ms per loop\n"
     ]
    }
   ],
   "source": [
    "%%timeit\n",
    "for _ in range(population_size):\n",
    "    SimulationInstance.fitness_function(0, 1, variables)"
   ]
  },
  {
   "cell_type": "code",
   "execution_count": null,
   "metadata": {
    "collapsed": true
   },
   "outputs": [],
   "source": []
  }
 ],
 "metadata": {
  "anaconda-cloud": {},
  "kernelspec": {
   "display_name": "Python [Root]",
   "language": "python",
   "name": "Python [Root]"
  },
  "language_info": {
   "codemirror_mode": {
    "name": "ipython",
    "version": 3
   },
   "file_extension": ".py",
   "mimetype": "text/x-python",
   "name": "python",
   "nbconvert_exporter": "python",
   "pygments_lexer": "ipython3",
   "version": "3.5.2"
  }
 },
 "nbformat": 4,
 "nbformat_minor": 0
}
