{
 "cells": [
  {
   "cell_type": "code",
   "execution_count": 14,
   "metadata": {
    "collapsed": false
   },
   "outputs": [
    {
     "name": "stdout",
     "output_type": "stream",
     "text": [
      "Populating the interactive namespace from numpy and matplotlib\n",
      "The autoreload extension is already loaded. To reload it, use:\n",
      "  %reload_ext autoreload\n",
      "The Cython extension is already loaded. To reload it, use:\n",
      "  %reload_ext Cython\n"
     ]
    }
   ],
   "source": [
    "%pylab inline\n",
    "%load_ext autoreload\n",
    "%autoreload 2\n",
    "%load_ext Cython\n",
    "\n",
    "from InstanceVariables import InstanceVariables\n",
    "import SimulationInstance\n",
    "import SimulationInstanceVectorized\n",
    "import Cython_resources.main as sim_cyth"
   ]
  },
  {
   "cell_type": "markdown",
   "metadata": {},
   "source": [
    "Before looking at the results of each simulation instance, both vectorized and not, let us first define the variables used and their values for each. The following parameter values are those used in the Santos, Santos, Pacheco paper supporting material.\n",
    "\n",
    "As well as this, let us define 4 of the main social norms investigated"
   ]
  },
  {
   "cell_type": "code",
   "execution_count": 14,
   "metadata": {
    "collapsed": true
   },
   "outputs": [],
   "source": [
    "SternJudging = [[1, 0 ],\n",
    "                [0, 1]]\n",
    "SimpleStanding = [[1, 1],\n",
    "                  [0, 1]]\n",
    "Shunning = [[1, 0],\n",
    "            [0, 1]]\n",
    "ImageScore = [[1, 1],\n",
    "              [0, 0]]"
   ]
  },
  {
   "cell_type": "markdown",
   "metadata": {},
   "source": [
    "Now a function containing all the predefined variables for use in testing:"
   ]
  },
  {
   "cell_type": "code",
   "execution_count": 15,
   "metadata": {
    "collapsed": true
   },
   "outputs": [],
   "source": [
    "def SSP(population_size, generations, socialnorm):\n",
    "    runs = 1\n",
    "    mutation_rate = np.power(10*population_size, -1)\n",
    "\n",
    "    execution_error = 0.08\n",
    "    reputation_assignment_error = 0.01\n",
    "    private_assessment_error = 0.01\n",
    "    reputation_update_probability = 1\n",
    "    cost = 1\n",
    "    benefit = 5\n",
    "    SimulationInstance.simulate(runs, generations, population_size,\n",
    "        mutation_rate, execution_error, reputation_assignment_error, private_assessment_error,\n",
    "        reputation_update_probability, socialnorm,\n",
    "        cost, benefit)"
   ]
  },
  {
   "cell_type": "markdown",
   "metadata": {},
   "source": [
    "# Population optimization #\n",
    "Now let's have a quick look at the speed difference in a population of 50."
   ]
  },
  {
   "cell_type": "code",
   "execution_count": 15,
   "metadata": {
    "collapsed": false
   },
   "outputs": [
    {
     "name": "stdout",
     "output_type": "stream",
     "text": [
      "Cooperation index: 0.5537725\n",
      "Cooperation index: 0.0433275\n",
      "Cooperation index: 0.78902\n",
      "Cooperation index: 0.0344675\n",
      "1 loop, best of 3: 4.73 s per loop\n"
     ]
    }
   ],
   "source": [
    "%%timeit\n",
    "SSP(50, 3*np.power(10,3), SternJudging, optimized=False)"
   ]
  },
  {
   "cell_type": "markdown",
   "metadata": {},
   "source": [
    "The best case was 4.73 seconds in the unoptimized simulation, now if we test the optimized simulation."
   ]
  },
  {
   "cell_type": "code",
   "execution_count": 14,
   "metadata": {
    "collapsed": false
   },
   "outputs": [
    {
     "name": "stdout",
     "output_type": "stream",
     "text": [
      "Cooperation index: 0.8683766666666667\n",
      "Cooperation index: 0.8917341666666667\n",
      "Cooperation index: 0.6453216666666667\n",
      "Cooperation index: 0.8730383333333334\n",
      "1 loop, best of 3: 2.48 s per loop\n"
     ]
    }
   ],
   "source": [
    "%%timeit\n",
    "SSP(50, 3*np.power(10,3), SternJudging, optimized=True)"
   ]
  },
  {
   "cell_type": "markdown",
   "metadata": {},
   "source": [
    "The best case was 2.48 seconds for the optimized simulation. Compared to the 4.73 seconds it took for the unoptimized, we have a almost twice as quick of a simulation. However before we say it is ONLY twice as quick. Let us give the example of a population of size 1000, 20 times larger than what we've tested. Given we are only testing these with 3000 generations compared to the 300 000 generations required for the simulation to be accurate, it is simply to measure the speedup."
   ]
  },
  {
   "cell_type": "code",
   "execution_count": 18,
   "metadata": {
    "collapsed": false
   },
   "outputs": [
    {
     "name": "stdout",
     "output_type": "stream",
     "text": [
      "Cooperation index: 0.3809449583333333\n",
      "Cooperation index: 0.3568224583333333\n",
      "Cooperation index: 0.409717\n",
      "Cooperation index: 0.3925699166666667\n",
      "1 loop, best of 3: 1min 29s per loop\n"
     ]
    }
   ],
   "source": [
    "%%timeit\n",
    "SSP(1000, 3*np.power(10,3), SternJudging, optimized=False)"
   ]
  },
  {
   "cell_type": "markdown",
   "metadata": {},
   "source": [
    "As you can see, the amount of time the unoptimized program requires to run only 3000 generations with a population of 1000 is 1 minute and 29 seconds."
   ]
  },
  {
   "cell_type": "code",
   "execution_count": 6,
   "metadata": {
    "collapsed": false
   },
   "outputs": [
    {
     "name": "stdout",
     "output_type": "stream",
     "text": [
      "Cooperation index: 0.3812939166666667\n",
      "Cooperation index: 0.3980768333333333\n",
      "Cooperation index: 0.38631845833333334\n",
      "Cooperation index: 0.38385254166666666\n",
      "1 loop, best of 3: 1.61 s per loop\n"
     ]
    }
   ],
   "source": [
    "%%timeit\n",
    "SSP(1000, 3*np.power(10,3), SternJudging, optimized=True)"
   ]
  },
  {
   "cell_type": "markdown",
   "metadata": {},
   "source": [
    "Now for the optimized simulation, the time taken is only 1.61 seconds, which is extremely close to the time taken for a population of size 50. "
   ]
  },
  {
   "cell_type": "markdown",
   "metadata": {},
   "source": [
    "# Fitness Function #\n",
    "Let's have a look at the speedup of the fitness function, responsible for determining the average fitness of an agent X against a tournament of other agents."
   ]
  },
  {
   "cell_type": "code",
   "execution_count": 4,
   "metadata": {
    "collapsed": false
   },
   "outputs": [],
   "source": [
    "runs = 1\n",
    "generations = 3*np.power(10, 2)\n",
    "population_size = 10\n",
    "socialnorm = [[0, 0], [0, 1]]\n",
    "mutation_rate = np.power(10.0*population_size, -1.0)\n",
    "\n",
    "execution_error = 0.08\n",
    "reputation_assignment_error = 0.01\n",
    "private_assessment_error = 0.01\n",
    "reputation_update_probability = 1.0\n",
    "cost = 1\n",
    "benefit = 5\n",
    "variables = InstanceVariables(runs, generations, population_size, mutation_rate,\n",
    "                              execution_error, reputation_assignment_error,\n",
    "                              private_assessment_error, reputation_update_probability,\n",
    "                              socialnorm, cost, benefit)"
   ]
  },
  {
   "cell_type": "markdown",
   "metadata": {},
   "source": [
    "Test the fitness function for small population sizes and then for larger population sizes"
   ]
  },
  {
   "cell_type": "code",
   "execution_count": 31,
   "metadata": {
    "collapsed": false
   },
   "outputs": [
    {
     "name": "stdout",
     "output_type": "stream",
     "text": [
      "1000 loops, best of 3: 744 µs per loop\n"
     ]
    }
   ],
   "source": [
    "%%timeit\n",
    "SimulationInstance.fitness_function(0, 1, variables)"
   ]
  },
  {
   "cell_type": "code",
   "execution_count": 32,
   "metadata": {
    "collapsed": false
   },
   "outputs": [
    {
     "name": "stdout",
     "output_type": "stream",
     "text": [
      "100 loops, best of 3: 2.47 ms per loop\n"
     ]
    }
   ],
   "source": [
    "%%timeit\n",
    "SimulationInstanceVectorized.fitness_function(0, 1, variables)"
   ]
  },
  {
   "cell_type": "code",
   "execution_count": 33,
   "metadata": {
    "collapsed": true
   },
   "outputs": [],
   "source": [
    "population_size = 50\n",
    "variables = InstanceVariables(runs, generations, population_size, mutation_rate,\n",
    "                              execution_error, reputation_assignment_error,\n",
    "                              private_assessment_error, reputation_update_probability,\n",
    "                              socialnorm, cost, benefit)"
   ]
  },
  {
   "cell_type": "code",
   "execution_count": 34,
   "metadata": {
    "collapsed": false
   },
   "outputs": [
    {
     "name": "stdout",
     "output_type": "stream",
     "text": [
      "100 loops, best of 3: 2.91 ms per loop\n"
     ]
    }
   ],
   "source": [
    "%%timeit\n",
    "SimulationInstance.fitness_function(0, 1, variables)"
   ]
  },
  {
   "cell_type": "code",
   "execution_count": 35,
   "metadata": {
    "collapsed": false
   },
   "outputs": [
    {
     "name": "stdout",
     "output_type": "stream",
     "text": [
      "100 loops, best of 3: 3.29 ms per loop\n"
     ]
    }
   ],
   "source": [
    "%%timeit\n",
    "SimulationInstanceVectorized.fitness_function(0, 1, variables)"
   ]
  },
  {
   "cell_type": "code",
   "execution_count": 36,
   "metadata": {
    "collapsed": true
   },
   "outputs": [],
   "source": [
    "population_size = 100\n",
    "variables = InstanceVariables(runs, generations, population_size, mutation_rate,\n",
    "                              execution_error, reputation_assignment_error,\n",
    "                              private_assessment_error, reputation_update_probability,\n",
    "                              socialnorm, cost, benefit)"
   ]
  },
  {
   "cell_type": "code",
   "execution_count": 37,
   "metadata": {
    "collapsed": false
   },
   "outputs": [
    {
     "name": "stdout",
     "output_type": "stream",
     "text": [
      "100 loops, best of 3: 5.98 ms per loop\n"
     ]
    }
   ],
   "source": [
    "%%timeit\n",
    "SimulationInstance.fitness_function(0, 1, variables)"
   ]
  },
  {
   "cell_type": "code",
   "execution_count": 38,
   "metadata": {
    "collapsed": false
   },
   "outputs": [
    {
     "name": "stdout",
     "output_type": "stream",
     "text": [
      "100 loops, best of 3: 3.63 ms per loop\n"
     ]
    }
   ],
   "source": [
    "%%timeit\n",
    "SimulationInstanceVectorized.fitness_function(0, 1, variables)"
   ]
  },
  {
   "cell_type": "markdown",
   "metadata": {
    "collapsed": true
   },
   "source": [
    "## Measure the speed of both fitness function vectorized and not for different population sizes"
   ]
  },
  {
   "cell_type": "code",
   "execution_count": 11,
   "metadata": {
    "collapsed": false
   },
   "outputs": [
    {
     "name": "stdout",
     "output_type": "stream",
     "text": [
      "1000 loops, best of 3: 714 µs per loop\n",
      "100 loops, best of 3: 3.79 ms per loop\n",
      "1000 loops, best of 3: 1.37 ms per loop\n",
      "The slowest run took 4.27 times longer than the fastest. This could mean that an intermediate result is being cached.\n",
      "100 loops, best of 3: 3.69 ms per loop\n",
      "100 loops, best of 3: 1.88 ms per loop\n",
      "100 loops, best of 3: 3.63 ms per loop\n",
      "100 loops, best of 3: 2.15 ms per loop\n",
      "100 loops, best of 3: 3.75 ms per loop\n",
      "100 loops, best of 3: 3.24 ms per loop\n",
      "100 loops, best of 3: 3.72 ms per loop\n",
      "100 loops, best of 3: 3.88 ms per loop\n",
      "100 loops, best of 3: 3.04 ms per loop\n",
      "100 loops, best of 3: 3.5 ms per loop\n",
      "100 loops, best of 3: 3.08 ms per loop\n",
      "100 loops, best of 3: 3.99 ms per loop\n",
      "100 loops, best of 3: 3.12 ms per loop\n",
      "100 loops, best of 3: 4.55 ms per loop\n",
      "100 loops, best of 3: 3.19 ms per loop\n",
      "100 loops, best of 3: 6.05 ms per loop\n",
      "100 loops, best of 3: 3.99 ms per loop\n",
      "100 loops, best of 3: 7.6 ms per loop\n",
      "100 loops, best of 3: 3.96 ms per loop\n",
      "100 loops, best of 3: 8.66 ms per loop\n",
      "100 loops, best of 3: 4 ms per loop\n",
      "100 loops, best of 3: 9.28 ms per loop\n",
      "100 loops, best of 3: 3.95 ms per loop\n",
      "100 loops, best of 3: 9.56 ms per loop\n",
      "100 loops, best of 3: 4.05 ms per loop\n",
      "100 loops, best of 3: 10.9 ms per loop\n",
      "100 loops, best of 3: 4.27 ms per loop\n",
      "100 loops, best of 3: 12.1 ms per loop\n",
      "100 loops, best of 3: 4.5 ms per loop\n",
      "100 loops, best of 3: 14.8 ms per loop\n",
      "100 loops, best of 3: 4.35 ms per loop\n",
      "100 loops, best of 3: 17.1 ms per loop\n",
      "100 loops, best of 3: 4.48 ms per loop\n",
      "100 loops, best of 3: 19.7 ms per loop\n",
      "100 loops, best of 3: 4.45 ms per loop\n",
      "10 loops, best of 3: 24 ms per loop\n",
      "100 loops, best of 3: 4.77 ms per loop\n",
      "10 loops, best of 3: 30.6 ms per loop\n",
      "100 loops, best of 3: 4.89 ms per loop\n",
      "10 loops, best of 3: 36.3 ms per loop\n",
      "100 loops, best of 3: 5.24 ms per loop\n"
     ]
    }
   ],
   "source": [
    "non_vectorized_times = []\n",
    "vectorized_times = []\n",
    "p_sizes = [10, 20, 30, 40, 50, 60, 70, 80, 90, 100, 120, 140, 150, 160, 180, 200, 240, 280, 320, 400, 500, 600]\n",
    "for p_size in p_sizes:\n",
    "    population_size = p_size\n",
    "    variables = InstanceVariables(runs, generations, population_size, mutation_rate,\n",
    "                                  execution_error, reputation_assignment_error,\n",
    "                                  private_assessment_error, reputation_update_probability,\n",
    "                                  socialnorm, cost, benefit)\n",
    "    non_vector_result = %timeit -o SimulationInstance.fitness_function(0, 1, variables)\n",
    "    vector_result = %timeit -o SimulationInstanceVectorized.fitness_function(0, 1, variables)\n",
    "    non_vectorized_times.append(non_vector_result)\n",
    "    vectorized_times.append(vector_result)"
   ]
  },
  {
   "cell_type": "code",
   "execution_count": 12,
   "metadata": {
    "collapsed": false
   },
   "outputs": [
    {
     "data": {
      "image/png": "[encoded data removed]",
      "text/plain": [
       "<matplotlib.figure.Figure at 0x77b1d2b898>"
      ]
     },
     "metadata": {},
     "output_type": "display_data"
    }
   ],
   "source": [
    "v_times = [time_obj.best for time_obj in vectorized_times]\n",
    "non_v_times = [time_obj.best for time_obj in non_vectorized_times]\n",
    "line_vectorized, = plt.plot(p_sizes, v_times, linewidth=1.5, label='Vectorized')\n",
    "line_non_vectorized, = plt.plot(p_sizes, non_v_times, label='Non vectorized', marker='^')\n",
    "# plt.ylim((-0.01, 1.05))\n",
    "# plt.xlim((-0.1, 125))\n",
    "plt.legend(handles=[line_vectorized, line_non_vectorized], loc='upper left', bbox_to_anchor=(1,1))\n",
    "plt.grid(b=True, which='both')\n",
    "plt.rcParams[\"figure.figsize\"][0] = 9\n",
    "plt.rcParams[\"figure.figsize\"][1] = 5\n",
    "# plt.xticks([10*i for i in range(13)])\n",
    "# plt.yticks([0.1*i for i in range(11)])\n",
    "plt.ylabel('Run time (s)')\n",
    "plt.xlabel('Population size')\n",
    "plt.show()"
   ]
  },
  {
   "cell_type": "markdown",
   "metadata": {},
   "source": [
    "## Investigate Cython speedup"
   ]
  },
  {
   "cell_type": "code",
   "execution_count": 17,
   "metadata": {
    "collapsed": true
   },
   "outputs": [],
   "source": [
    "runs = 1\n",
    "generations = 3*np.power(10, 2)\n",
    "population_size = 10\n",
    "socialnorm = np.array([[0, 0], [0, 1]])\n",
    "mutation_rate = np.power(10.0*population_size, -1.0)\n",
    "\n",
    "execution_error = 0.08\n",
    "reputation_assignment_error = 0.01\n",
    "private_assessment_error = 0.01\n",
    "reputation_update_probability = 1.0\n",
    "cost = 1\n",
    "benefit = 5"
   ]
  },
  {
   "cell_type": "code",
   "execution_count": 18,
   "metadata": {
    "collapsed": false
   },
   "outputs": [
    {
     "name": "stdout",
     "output_type": "stream",
     "text": [
      "1 loop, best of 3: 517 ms per loop\n"
     ]
    }
   ],
   "source": [
    "%%timeit\n",
    "sim_cyth.simulation_instance.run_instance(runs, generations, population_size, mutation_rate,\n",
    "                              execution_error, reputation_assignment_error,\n",
    "                              private_assessment_error, reputation_update_probability,\n",
    "                              socialnorm, cost, benefit)"
   ]
  },
  {
   "cell_type": "code",
   "execution_count": 19,
   "metadata": {
    "collapsed": false
   },
   "outputs": [
    {
     "name": "stdout",
     "output_type": "stream",
     "text": [
      "1 loop, best of 3: 2.4 s per loop\n"
     ]
    }
   ],
   "source": [
    "%%timeit\n",
    "SimulationInstance.simulate(runs, generations, population_size, mutation_rate,\n",
    "                            execution_error, reputation_assignment_error,\n",
    "                            private_assessment_error, reputation_update_probability,\n",
    "                            socialnorm, cost, benefit)"
   ]
  },
  {
   "cell_type": "code",
   "execution_count": 29,
   "metadata": {
    "collapsed": false,
    "scrolled": true
   },
   "outputs": [
    {
     "name": "stdout",
     "output_type": "stream",
     "text": [
      "10 loops, best of 1: 85.1 ms per loop\n",
      "1 loop, best of 1: 307 ms per loop\n",
      "1 loop, best of 1: 2.25 s per loop\n",
      "1 loop, best of 1: 221 ms per loop\n",
      "1 loop, best of 1: 966 ms per loop\n",
      "1 loop, best of 1: 4.68 s per loop\n",
      "1 loop, best of 1: 743 ms per loop\n",
      "1 loop, best of 1: 3.36 s per loop\n",
      "1 loop, best of 1: 10 s per loop\n",
      "1 loop, best of 1: 1.75 s per loop\n",
      "1 loop, best of 1: 7.16 s per loop\n",
      "1 loop, best of 1: 15.2 s per loop\n",
      "1 loop, best of 1: 3.36 s per loop\n",
      "1 loop, best of 1: 12 s per loop\n",
      "1 loop, best of 1: 20.8 s per loop\n",
      "1 loop, best of 1: 5.8 s per loop\n",
      "1 loop, best of 1: 18.5 s per loop\n",
      "1 loop, best of 1: 26.1 s per loop\n",
      "1 loop, best of 1: 9.26 s per loop\n",
      "1 loop, best of 1: 26.4 s per loop\n",
      "1 loop, best of 1: 33.9 s per loop\n",
      "1 loop, best of 1: 14.8 s per loop\n",
      "1 loop, best of 1: 37.7 s per loop\n",
      "1 loop, best of 1: 39.3 s per loop\n"
     ]
    }
   ],
   "source": [
    "cython_time_objects = []\n",
    "pure_python_time_objects = []\n",
    "python_vectorized_time_objects = []\n",
    "p_sizes = [5, 10, 20, 30, 40, 50, 60, 70, 90, 110, 130, 160, 180]\n",
    "for p_size in p_sizes:\n",
    "    population_size = p_size\n",
    "    variables = InstanceVariables(runs, generations, population_size, mutation_rate,\n",
    "                                  execution_error, reputation_assignment_error,\n",
    "                                  private_assessment_error, reputation_update_probability,\n",
    "                                  socialnorm, cost, benefit)\n",
    "    cython_result = %timeit -r 1 -o sim_cyth.simulation_instance.run_instance(runs, generations, population_size, mutation_rate, \\\n",
    "                            execution_error, reputation_assignment_error, \\\n",
    "                            private_assessment_error, reputation_update_probability, \\\n",
    "                            socialnorm, cost, benefit)\n",
    "    pure_python_result = %timeit -r 1 -o SimulationInstance.simulate(runs, generations, population_size, mutation_rate, \\\n",
    "                            execution_error, reputation_assignment_error, \\\n",
    "                            private_assessment_error, reputation_update_probability, \\\n",
    "                            socialnorm, cost, benefit)\n",
    "    pyth_vector_result = %timeit -r 1 -o SimulationInstanceVectorized.run_instance(runs, generations, population_size, mutation_rate, \\\n",
    "                            execution_error, reputation_assignment_error, \\\n",
    "                            private_assessment_error, reputation_update_probability, \\\n",
    "                            socialnorm, cost, benefit)\n",
    "    cython_time_objects.append(cython_result)\n",
    "    pure_python_time_objects.append(pure_python_result)\n",
    "    python_vectorized_time_objects.append(pyth_vector_result)"
   ]
  },
  {
   "cell_type": "code",
   "execution_count": 34,
   "metadata": {
    "collapsed": false
   },
   "outputs": [
    {
     "data": {
      "image/png": "[encoded data removed]",
      "text/plain": [
       "<matplotlib.figure.Figure at 0x77b310e4e0>"
      ]
     },
     "metadata": {},
     "output_type": "display_data"
    }
   ],
   "source": [
    "cyth_times = [time_obj.best for time_obj in cython_time_objects]\n",
    "pure_pyth_times = [time_obj.best for time_obj in pure_python_time_objects]\n",
    "pyth_vector_times = [time_obj.best for time_obj in python_vectorized_time_objects]\n",
    "line_cyth, = plt.plot(p_sizes, cyth_times, linewidth=1.5, label='Cython')\n",
    "line_pure_pyth, = plt.plot(p_sizes, pure_pyth_times, label='Pure Python', marker='^')\n",
    "line_vectorized, = plt.plot(p_sizes, pyth_vector_times, label='Python Vectorized', marker='o')\n",
    "# plt.ylim((-0.01, 1.05))\n",
    "# plt.xlim((-0.1, 125))\n",
    "plt.legend(handles=[line_cyth, line_pure_pyth, line_vectorized], loc='upper left', bbox_to_anchor=(1,1))\n",
    "plt.grid(b=True, which='both')\n",
    "plt.rcParams[\"figure.figsize\"][0] = 9\n",
    "plt.rcParams[\"figure.figsize\"][1] = 5\n",
    "# plt.xticks([10*i for i in range(13)])\n",
    "# plt.yticks([0.1*i for i in range(11)])\n",
    "plt.ylabel('Run time (s)')\n",
    "plt.xlabel('Population size')\n",
    "plt.show()"
   ]
  },
  {
   "cell_type": "code",
   "execution_count": null,
   "metadata": {
    "collapsed": true
   },
   "outputs": [],
   "source": []
  }
 ],
 "metadata": {
  "anaconda-cloud": {},
  "kernelspec": {
   "display_name": "Python [Root]",
   "language": "python",
   "name": "Python [Root]"
  },
  "language_info": {
   "codemirror_mode": {
    "name": "ipython",
    "version": 3
   },
   "file_extension": ".py",
   "mimetype": "text/x-python",
   "name": "python",
   "nbconvert_exporter": "python",
   "pygments_lexer": "ipython3",
   "version": "3.5.2"
  }
 },
 "nbformat": 4,
 "nbformat_minor": 0
}
